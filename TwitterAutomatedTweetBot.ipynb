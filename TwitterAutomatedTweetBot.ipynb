{
  "cells": [
    {
      "cell_type": "code",
      "execution_count": null,
      "id": "b495e134",
      "metadata": {
        "id": "b495e134",
        "scrolled": true
      },
      "outputs": [],
      "source": [
        "import time\n",
        "import datetime\n",
        "import random\n",
        "import requests\n",
        "\n",
        "import tweepy\n",
        "from bs4 import BeautifulSoup"
      ]
    },
    {
      "cell_type": "code",
      "execution_count": null,
      "id": "a5e3be38",
      "metadata": {
        "id": "a5e3be38"
      },
      "outputs": [],
      "source": [
        "CONSUMER_KEY = 'API Key'\n",
        "CONSUMER_SECRET = 'API Key Secret'\n",
        "ACCESS_KEY = 'Access Token'\n",
        "ACCESS_SECRET = 'Access Token Secret'\n",
        "BEARER_TOKEN = 'Your Bearer Token'\n",
        "\n",
        "auth = tweepy.OAuthHandler(CONSUMER_KEY,CONSUMER_SECRET)\n",
        "auth.set_access_token(ACCESS_KEY,ACCESS_SECRET)\n",
        "api = tweepy.API(auth)"
      ]
    },
    {
      "cell_type": "code",
      "execution_count": null,
      "id": "Sj-o-VgVcPsS",
      "metadata": {
        "colab": {
          "base_uri": "https://localhost:8080/"
        },
        "id": "Sj-o-VgVcPsS",
        "outputId": "63a45da2-b373-455b-a56a-c3cfa559761b"
      },
      "outputs": [
        {
          "name": "stdout",
          "output_type": "stream",
          "text": [
            "Authentication OK\n"
          ]
        }
      ],
      "source": [
        "try:\n",
        "    api.verify_credentials()\n",
        "    print(\"Authentication OK\")\n",
        "except:\n",
        "    print(\"Error during authentication\")"
      ]
    },
    {
      "cell_type": "code",
      "execution_count": null,
      "id": "5CBE_hP7TyOO",
      "metadata": {
        "id": "5CBE_hP7TyOO"
      },
      "outputs": [],
      "source": [
        "def pullQuote():\n",
        "    quoteLength = 999\n",
        "    tweetText = ''\n",
        "    \n",
        "    while (quoteLength > 280):\n",
        "        # The page we want to scrape. Tests connection\n",
        "        pageNum = random.randint(1, 10)\n",
        "        page = requests.get(\"https://quotes.toscrape.com/page/\" + str(pageNum))\n",
        "\n",
        "        # Get the HTML content and find all instances where class is quote\n",
        "        soup = BeautifulSoup(page.content, 'html.parser')\n",
        "        quotes = soup.find_all(class_=\"quote\")\n",
        "\n",
        "        # Each page has 10 quotes, generate a random value in this range and pull the quote\n",
        "        randInt = random.randint(0, 9)\n",
        "\n",
        "        quoteText = quotes[randInt].find_all(class_=\"text\")[0].text     # Get the quote from the inner class\n",
        "        quoteAuthor = quotes[randInt].find_all(class_=\"author\")[0].text # Get the Author from the inner class\n",
        "        \n",
        "#         tweetText = (quoteText + '\\n' + quoteAuthor + '\\n' + page.url)\n",
        "        tweetText = (quoteText + '\\n' + quoteAuthor)   # No URL in tweet\n",
        "\n",
        "        quoteLength = len(tweetText)\n",
        "\n",
        "    return(tweetText)"
      ]
    },
    {
      "cell_type": "code",
      "execution_count": null,
      "id": "_8jY-7g12Nto",
      "metadata": {
        "id": "_8jY-7g12Nto"
      },
      "outputs": [],
      "source": [
        "def makeTweet(message):\n",
        "  api.update_status(message)"
      ]
    },
    {
      "cell_type": "code",
      "execution_count": null,
      "id": "5qJ3VCxPowQJ",
      "metadata": {
        "id": "5qJ3VCxPowQJ"
      },
      "outputs": [],
      "source": [
        "def autoTweet():\n",
        "  while True:\n",
        "    message = pullQuote()\n",
        "    makeTweet(message)\n",
        "    print('Tweet Created: ' + str(datetime.datetime.now()))\n",
        "#     time.sleep (43200)        # wait 12 hours before creating another tweet\n",
        "    time.sleep (3600)        # wait 1 hours before creating another tweet\n"
      ]
    },
    {
      "cell_type": "code",
      "execution_count": null,
      "id": "PDaKhYolrCOW",
      "metadata": {
        "id": "PDaKhYolrCOW"
      },
      "outputs": [],
      "source": [
        "def main():\n",
        "  autoTweet()"
      ]
    },
    {
      "cell_type": "code",
      "execution_count": null,
      "id": "pnEbTBSirEYi",
      "metadata": {
        "colab": {
          "background_save": true
        },
        "id": "pnEbTBSirEYi"
      },
      "outputs": [],
      "source": [
        "main()"
      ]
    }
  ],
  "metadata": {
    "colab": {
      "name": "TwitterAutomatedTweetBot.ipynb",
      "provenance": []
    },
    "kernelspec": {
      "display_name": "Python 3 (ipykernel)",
      "language": "python",
      "name": "python3"
    },
    "language_info": {
      "codemirror_mode": {
        "name": "ipython",
        "version": 3
      },
      "file_extension": ".py",
      "mimetype": "text/x-python",
      "name": "python",
      "nbconvert_exporter": "python",
      "pygments_lexer": "ipython3",
      "version": "3.10.5"
    }
  },
  "nbformat": 4,
  "nbformat_minor": 5
}